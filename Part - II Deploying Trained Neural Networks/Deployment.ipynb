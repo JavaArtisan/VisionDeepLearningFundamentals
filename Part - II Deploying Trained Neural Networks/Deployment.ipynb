{
 "cells": [
  {
   "cell_type": "markdown",
   "metadata": {},
   "source": [
    "<a href=\"https://www.nvidia.com/en-us/deep-learning-ai/education/\"> <img src=\"images/DLI Header.png\" alt=\"Header\" style=\"width: 400px;\"/> </a>"
   ]
  },
  {
   "cell_type": "markdown",
   "metadata": {},
   "source": [
    "# Deployment\n",
    "\n",
    "## Which files constitute a \"model\"?\n",
    "\n",
    "We make a trained network useful by removing it from its training environment and \"deploying\" it into an application. Start where we left off in DIGITS.\n",
    "\n",
    "DIGITS places the files we need to deploy in a directory that can either be downloaded or just pointed to. Since we're going to be deploying our model on the same server where it was trained, we can just point to the folder path that DIGITS generates.\n",
    "\n",
    "### <a href=\"../../../../digits\" target=\\\"_blank\\\">Open DIGITS</a>.\n",
    "\n",
    "From DIGITS home page, select the model that we named \"Dogs vs. Cats\".\n",
    "\n",
    "DIGITS' \"Job Page\" for the model is what you see as soon as you create the model, when it is training, and/or if you select the model under DIGITS' \"model\" tab. The Job Directory is in the top left.\n",
    "\n",
    "![](images/ModelJobView.PNG)\n",
    "\n",
    "**Copy the job directory (highlighted above) and replace ##FIXME## in the code block below. Once you've copied the directory, execute the cell (Shift+Enter) to store it to the variable <code>MODEL_JOB_DIR</code>**"
   ]
  },
  {
   "cell_type": "code",
   "execution_count": 1,
   "metadata": {},
   "outputs": [
    {
     "name": "stdout",
     "output_type": "stream",
     "text": [
      "caffe_output.log   snapshot_iter_735.caffemodel   status.pickle\r\n",
      "deploy.prototxt    snapshot_iter_735.solverstate  train_val.prototxt\r\n",
      "original.prototxt  solver.prototxt\r\n"
     ]
    }
   ],
   "source": [
    "MODEL_JOB_DIR = '/dli/data/digits/20180301-185638-e918'  ## Remember to set this to be the job directory for your model\n",
    "!ls $MODEL_JOB_DIR"
   ]
  },
  {
   "cell_type": "markdown",
   "metadata": {},
   "source": [
    "Assuming you copied and pasted well, you will see a list of all files in that directory. If the following instructions do not match what you're seeing, check the copy/paste directions.\n",
    "\n",
    "Again, our \"model\" consists of two files: the architecture and the weights. \n",
    "\n",
    "The architecture is the file called ```deploy.prototxt``` and the weights are in the most recent snapshot file ```snapshot_iter_#.caffemodel.```In this case, snapshot number 735 contains the weights learned after all 5 epochs."
   ]
  },
  {
   "cell_type": "code",
   "execution_count": 2,
   "metadata": {},
   "outputs": [
    {
     "name": "stdout",
     "output_type": "stream",
     "text": [
      "Filepath to Architecture = /dli/data/digits/20180301-185638-e918/deploy.prototxt\n",
      "Filepath to weights = /dli/data/digits/20180301-185638-e918/snapshot_iter_735.caffemodel\n"
     ]
    }
   ],
   "source": [
    "ARCHITECTURE = MODEL_JOB_DIR + '/' + 'deploy.prototxt'\n",
    "WEIGHTS = MODEL_JOB_DIR + '/' + 'snapshot_iter_735.caffemodel'\n",
    "print (\"Filepath to Architecture = \" + ARCHITECTURE)\n",
    "print(\"Filepath to weights = \"+ WEIGHTS)"
   ]
  },
  {
   "cell_type": "markdown",
   "metadata": {},
   "source": [
    "Next, we need to make sure that the program that we're building can both read and process those files. For this basic type of deployment, we'll need to install (or include) the framework that they were written in to be able to interpret them. We'll learn to deploy to environments that don't require installing the framework later in this course. We'll also need to use the GPU to take advantage of parallel processing. Again, our model consists of hundreds of thousands of operations that can be largely accelerated through parallelization. "
   ]
  },
  {
   "cell_type": "code",
   "execution_count": 3,
   "metadata": {},
   "outputs": [],
   "source": [
    "import caffe\n",
    "caffe.set_mode_gpu()"
   ]
  },
  {
   "cell_type": "markdown",
   "metadata": {},
   "source": [
    "Next, we'll create a \"Classifier\" object called \"net\". The more common the workflow, the easier existing tools will make your project. In this case, image classification is very common, so this next code block simply takes your architecture file and weights file and a bit about the data and makes common actions easy. "
   ]
  },
  {
   "cell_type": "code",
   "execution_count": 4,
   "metadata": {},
   "outputs": [],
   "source": [
    "# Initialize the Caffe model using the model trained in DIGITS\n",
    "net = caffe.Classifier(ARCHITECTURE, WEIGHTS,  \n",
    "                       channel_swap =(2, 1, 0), #Color images have three channels, Red, Green, and Blue.\n",
    "                       raw_scale=255) #Each pixel value is a number between 0 and 255\n",
    "                       #Each \"channel\" of our images are 256 x 256 "
   ]
  },
  {
   "cell_type": "markdown",
   "metadata": {},
   "source": [
    "The Classifier class includes a method called \"predict\", which takes an input of an image as defined above and generates an output of the likelihood of the image belonging to each category.\n",
    "\n",
    "\n",
    "## Creating an Expected Input: Preprocessing\n",
    "\n",
    "To start with something easy, let's attempt to correctly classify a labeled image from the dataset. We can load the image and view it by running the cell below."
   ]
  },
  {
   "cell_type": "code",
   "execution_count": 5,
   "metadata": {},
   "outputs": [
    {
     "data": {
      "image/png": "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